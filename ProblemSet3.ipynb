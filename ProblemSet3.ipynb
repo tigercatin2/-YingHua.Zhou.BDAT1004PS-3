{
 "cells": [
  {
   "cell_type": "markdown",
   "id": "620cf49f",
   "metadata": {},
   "source": [
    "# BDAT 1004 – Data Programming\n",
    "## Problem Set 3"
   ]
  },
  {
   "cell_type": "markdown",
   "id": "44e603d2",
   "metadata": {},
   "source": [
    "## Question 1\n",
    "Introduction:  \n",
    "Special thanks to: https://github.com/justmarkham for sharing the dataset and \n",
    "materials.    \n",
    "Occupations    \n",
    "Step 1. Import the necessary libraries   \n",
    "Step 2. Import the dataset from this address.  \n",
    "Step 3. Assign it to a variable called users  \n",
    "Step 4. Discover what is the mean age per occupation  "
   ]
  },
  {
   "cell_type": "code",
   "execution_count": 8,
   "id": "48faef29",
   "metadata": {},
   "outputs": [
    {
     "name": "stdout",
     "output_type": "stream",
     "text": [
      "occupation\n",
      "administrator    38.746835\n",
      "artist           31.392857\n",
      "doctor           43.571429\n",
      "educator         42.010526\n",
      "engineer         36.388060\n",
      "entertainment    29.222222\n",
      "executive        38.718750\n",
      "healthcare       41.562500\n",
      "homemaker        32.571429\n",
      "lawyer           36.750000\n",
      "librarian        40.000000\n",
      "marketing        37.615385\n",
      "none             26.555556\n",
      "other            34.523810\n",
      "programmer       33.121212\n",
      "retired          63.071429\n",
      "salesman         35.666667\n",
      "scientist        35.548387\n",
      "student          22.081633\n",
      "technician       33.148148\n",
      "writer           36.311111\n",
      "Name: age, dtype: float64\n",
      "\n"
     ]
    }
   ],
   "source": [
    "import pandas as pd\n",
    "import numpy as np\n",
    "\n",
    "url = 'https://raw.githubusercontent.com/justmarkham/DAT8/master/data/u.user'\n",
    "users = pd.read_csv(url,sep='|')\n",
    "mean_age_by_occupation = users.groupby('occupation')['age'].mean()\n",
    "print(mean_age_by_occupation)"
   ]
  },
  {
   "cell_type": "markdown",
   "id": "593c5f2a",
   "metadata": {},
   "source": [
    "Step 5. Discover the Male ratio per occupation and sort it from the most to the least  "
   ]
  },
  {
   "cell_type": "code",
   "execution_count": 12,
   "id": "fe39e2ff",
   "metadata": {},
   "outputs": [
    {
     "name": "stdout",
     "output_type": "stream",
     "text": [
      "occupation\n",
      "doctor           1.000000\n",
      "engineer         0.970149\n",
      "technician       0.962963\n",
      "retired          0.928571\n",
      "programmer       0.909091\n",
      "executive        0.906250\n",
      "scientist        0.903226\n",
      "entertainment    0.888889\n",
      "lawyer           0.833333\n",
      "salesman         0.750000\n",
      "educator         0.726316\n",
      "student          0.693878\n",
      "other            0.657143\n",
      "marketing        0.615385\n",
      "writer           0.577778\n",
      "none             0.555556\n",
      "administrator    0.544304\n",
      "artist           0.535714\n",
      "librarian        0.431373\n",
      "healthcare       0.312500\n",
      "homemaker        0.142857\n",
      "Name: is_male, dtype: float64\n"
     ]
    }
   ],
   "source": [
    "users['is_male'] = np.where(users['gender'] == 'M',1,0)\n",
    "male_ratio_by_occupation = users.groupby('occupation')['is_male'].mean()\n",
    "male_ratio_by_occupation = male_ratio_by_occupation.sort_values(ascending=False) \n",
    "print(male_ratio_by_occupation)"
   ]
  },
  {
   "cell_type": "markdown",
   "id": "b5dfccd2",
   "metadata": {},
   "source": [
    "Step 6. For each occupation, calculate the minimum and maximum ages "
   ]
  },
  {
   "cell_type": "code",
   "execution_count": 10,
   "id": "2da206b3",
   "metadata": {},
   "outputs": [
    {
     "name": "stdout",
     "output_type": "stream",
     "text": [
      "occupation\n",
      "administrator    21\n",
      "artist           19\n",
      "doctor           28\n",
      "educator         23\n",
      "engineer         22\n",
      "entertainment    15\n",
      "executive        22\n",
      "healthcare       22\n",
      "homemaker        20\n",
      "lawyer           21\n",
      "librarian        23\n",
      "marketing        24\n",
      "none             11\n",
      "other            13\n",
      "programmer       20\n",
      "retired          51\n",
      "salesman         18\n",
      "scientist        23\n",
      "student           7\n",
      "technician       21\n",
      "writer           18\n",
      "Name: age, dtype: int64\n"
     ]
    }
   ],
   "source": [
    "min_age_by_occupation = users.groupby('occupation')['age'].min()\n",
    "print(min_age_by_occupation)"
   ]
  },
  {
   "cell_type": "code",
   "execution_count": 11,
   "id": "564d5d71",
   "metadata": {},
   "outputs": [
    {
     "name": "stdout",
     "output_type": "stream",
     "text": [
      "occupation\n",
      "administrator    70\n",
      "artist           48\n",
      "doctor           64\n",
      "educator         63\n",
      "engineer         70\n",
      "entertainment    50\n",
      "executive        69\n",
      "healthcare       62\n",
      "homemaker        50\n",
      "lawyer           53\n",
      "librarian        69\n",
      "marketing        55\n",
      "none             55\n",
      "other            64\n",
      "programmer       63\n",
      "retired          73\n",
      "salesman         66\n",
      "scientist        55\n",
      "student          42\n",
      "technician       55\n",
      "writer           60\n",
      "Name: age, dtype: int64\n"
     ]
    }
   ],
   "source": [
    "max_age_by_occupation = users.groupby('occupation')['age'].max()\n",
    "print(max_age_by_occupation)"
   ]
  },
  {
   "cell_type": "markdown",
   "id": "5b571de4",
   "metadata": {},
   "source": [
    "Step 7. For each combination of occupation and sex, calculate the mean age  "
   ]
  },
  {
   "cell_type": "code",
   "execution_count": 33,
   "id": "5fddab61",
   "metadata": {},
   "outputs": [
    {
     "name": "stdout",
     "output_type": "stream",
     "text": [
      "occupation     gender\n",
      "administrator  F         40.638889\n",
      "               M         37.162791\n",
      "artist         F         30.307692\n",
      "               M         32.333333\n",
      "doctor         M         43.571429\n",
      "educator       F         39.115385\n",
      "               M         43.101449\n",
      "engineer       F         29.500000\n",
      "               M         36.600000\n",
      "entertainment  F         31.000000\n",
      "               M         29.000000\n",
      "executive      F         44.000000\n",
      "               M         38.172414\n",
      "healthcare     F         39.818182\n",
      "               M         45.400000\n",
      "homemaker      F         34.166667\n",
      "               M         23.000000\n",
      "lawyer         F         39.500000\n",
      "               M         36.200000\n",
      "librarian      F         40.000000\n",
      "               M         40.000000\n",
      "marketing      F         37.200000\n",
      "               M         37.875000\n",
      "none           F         36.500000\n",
      "               M         18.600000\n",
      "other          F         35.472222\n",
      "               M         34.028986\n",
      "programmer     F         32.166667\n",
      "               M         33.216667\n",
      "retired        F         70.000000\n",
      "               M         62.538462\n",
      "salesman       F         27.000000\n",
      "               M         38.555556\n",
      "scientist      F         28.333333\n",
      "               M         36.321429\n",
      "student        F         20.750000\n",
      "               M         22.669118\n",
      "technician     F         38.000000\n",
      "               M         32.961538\n",
      "writer         F         37.631579\n",
      "               M         35.346154\n",
      "Name: age, dtype: float64\n"
     ]
    }
   ],
   "source": [
    "mean_age_by_occupation_sex = users.groupby(['occupation', 'gender'])['age'].mean()\n",
    "print(mean_age_by_occupation_sex)"
   ]
  },
  {
   "cell_type": "markdown",
   "id": "220025b9",
   "metadata": {},
   "source": [
    "Step 8. For each occupation present the percentage of women and men  "
   ]
  },
  {
   "cell_type": "code",
   "execution_count": 48,
   "id": "fccce8df",
   "metadata": {},
   "outputs": [
    {
     "name": "stdout",
     "output_type": "stream",
     "text": [
      "occupation\n",
      "administrator    45.569620\n",
      "artist           46.428571\n",
      "doctor                 NaN\n",
      "educator         27.368421\n",
      "engineer          2.985075\n",
      "entertainment    11.111111\n",
      "executive         9.375000\n",
      "healthcare       68.750000\n",
      "homemaker        85.714286\n",
      "lawyer           16.666667\n",
      "librarian        56.862745\n",
      "marketing        38.461538\n",
      "none             44.444444\n",
      "other            34.285714\n",
      "programmer        9.090909\n",
      "retired           7.142857\n",
      "salesman         25.000000\n",
      "scientist         9.677419\n",
      "student          30.612245\n",
      "technician        3.703704\n",
      "writer           42.222222\n",
      "Name: gender, dtype: float64\n"
     ]
    }
   ],
   "source": [
    "total_gender_by_occupation = users.groupby('occupation')['gender'].count()\n",
    "female_percentage_by_occupation = users[users['gender'] == 'F'].groupby('occupation')['gender'].count() / total_gender_by_occupation * 100\n",
    "print(female_percentage_by_occupation)"
   ]
  },
  {
   "cell_type": "code",
   "execution_count": 47,
   "id": "48994fb2",
   "metadata": {},
   "outputs": [
    {
     "name": "stdout",
     "output_type": "stream",
     "text": [
      "occupation\n",
      "administrator     54.430380\n",
      "artist            53.571429\n",
      "doctor           100.000000\n",
      "educator          72.631579\n",
      "engineer          97.014925\n",
      "entertainment     88.888889\n",
      "executive         90.625000\n",
      "healthcare        31.250000\n",
      "homemaker         14.285714\n",
      "lawyer            83.333333\n",
      "librarian         43.137255\n",
      "marketing         61.538462\n",
      "none              55.555556\n",
      "other             65.714286\n",
      "programmer        90.909091\n",
      "retired           92.857143\n",
      "salesman          75.000000\n",
      "scientist         90.322581\n",
      "student           69.387755\n",
      "technician        96.296296\n",
      "writer            57.777778\n",
      "Name: gender, dtype: float64\n"
     ]
    }
   ],
   "source": [
    "male_percentage_by_occupation = users[users['gender'] == 'M'].groupby('occupation')['gender'].count() /total_gender_by_occupation * 100\n",
    "print(male_percentage_by_occupation)"
   ]
  },
  {
   "cell_type": "markdown",
   "id": "19b3f60b",
   "metadata": {},
   "source": [
    "## Question 2\n",
    "Euro Teams  \n",
    "Step 1. Import the necessary libraries  \n",
    "Step 2. Import the dataset from this address  \n",
    "Step 3. Assign it to a variable called euro12  \n",
    "Step 4. Select only the Goal column   "
   ]
  },
  {
   "cell_type": "code",
   "execution_count": 80,
   "id": "672326c5",
   "metadata": {},
   "outputs": [
    {
     "name": "stdout",
     "output_type": "stream",
     "text": [
      "    Goals\n",
      "0       4\n",
      "1       4\n",
      "2       4\n",
      "3       5\n",
      "4       3\n",
      "5      10\n",
      "6       5\n",
      "7       6\n",
      "8       2\n",
      "9       2\n",
      "10      6\n",
      "11      1\n",
      "12      5\n",
      "13     12\n",
      "14      5\n",
      "15      2\n"
     ]
    }
   ],
   "source": [
    "import pandas as pd\n",
    "url = \"https://raw.githubusercontent.com/guipsamora/pandas_exercises/master/02_Filtering_%26_Sorting/Euro12/Euro_2012_stats_TEAM.csv\"\n",
    "euro12 = pd.read_csv(url)\n",
    "goal_column = euro12[['Goals']]\n",
    "print(goal_column)"
   ]
  },
  {
   "cell_type": "markdown",
   "id": "54d559ef",
   "metadata": {},
   "source": [
    "Step 5. How many team participated in the Euro2012?"
   ]
  },
  {
   "cell_type": "code",
   "execution_count": 81,
   "id": "db3f10c0",
   "metadata": {},
   "outputs": [
    {
     "name": "stdout",
     "output_type": "stream",
     "text": [
      "16\n"
     ]
    }
   ],
   "source": [
    "num_teams = euro12.shape[0]\n",
    "print(num_teams)"
   ]
  },
  {
   "cell_type": "markdown",
   "id": "22fb3784",
   "metadata": {},
   "source": [
    "Step 6. What is the number of columns in the dataset?"
   ]
  },
  {
   "cell_type": "code",
   "execution_count": 82,
   "id": "0c419ea5",
   "metadata": {},
   "outputs": [
    {
     "name": "stdout",
     "output_type": "stream",
     "text": [
      "35\n"
     ]
    }
   ],
   "source": [
    "num_columns = euro12.shape[1]\n",
    "print(num_columns)"
   ]
  },
  {
   "cell_type": "markdown",
   "id": "bd96b2c9",
   "metadata": {},
   "source": [
    "Step 7. View only the columns Team, Yellow Cards and Red Cards and assign them to a dataframe called discipline"
   ]
  },
  {
   "cell_type": "code",
   "execution_count": 83,
   "id": "d9515ea9",
   "metadata": {},
   "outputs": [
    {
     "name": "stdout",
     "output_type": "stream",
     "text": [
      "                   Team  Yellow Cards  Red Cards\n",
      "0               Croatia             9          0\n",
      "1        Czech Republic             7          0\n",
      "2               Denmark             4          0\n",
      "3               England             5          0\n",
      "4                France             6          0\n",
      "5               Germany             4          0\n",
      "6                Greece             9          1\n",
      "7                 Italy            16          0\n",
      "8           Netherlands             5          0\n",
      "9                Poland             7          1\n",
      "10             Portugal            12          0\n",
      "11  Republic of Ireland             6          1\n",
      "12               Russia             6          0\n",
      "13                Spain            11          0\n",
      "14               Sweden             7          0\n",
      "15              Ukraine             5          0\n"
     ]
    }
   ],
   "source": [
    "discipline = euro12[['Team','Yellow Cards', 'Red Cards']]\n",
    "print(discipline)"
   ]
  },
  {
   "cell_type": "markdown",
   "id": "f3df6fdf",
   "metadata": {},
   "source": [
    "Step 8. Sort the teams by Red Cards, then to Yellow Cards"
   ]
  },
  {
   "cell_type": "code",
   "execution_count": 84,
   "id": "bd10561f",
   "metadata": {},
   "outputs": [
    {
     "name": "stdout",
     "output_type": "stream",
     "text": [
      "                   Team  Yellow Cards  Red Cards\n",
      "6                Greece             9          1\n",
      "9                Poland             7          1\n",
      "11  Republic of Ireland             6          1\n",
      "7                 Italy            16          0\n",
      "10             Portugal            12          0\n",
      "13                Spain            11          0\n",
      "0               Croatia             9          0\n",
      "1        Czech Republic             7          0\n",
      "14               Sweden             7          0\n",
      "4                France             6          0\n",
      "12               Russia             6          0\n",
      "3               England             5          0\n",
      "8           Netherlands             5          0\n",
      "15              Ukraine             5          0\n",
      "2               Denmark             4          0\n",
      "5               Germany             4          0\n"
     ]
    }
   ],
   "source": [
    "discipline = discipline.sort_values(by=['Red Cards', 'Yellow Cards'], ascending=False)\n",
    "print(discipline)"
   ]
  },
  {
   "cell_type": "markdown",
   "id": "16873249",
   "metadata": {},
   "source": [
    "Step 9. Calculate the mean Yellow Cards given per Team"
   ]
  },
  {
   "cell_type": "code",
   "execution_count": 85,
   "id": "804abc51",
   "metadata": {},
   "outputs": [
    {
     "name": "stdout",
     "output_type": "stream",
     "text": [
      "7.4375\n"
     ]
    }
   ],
   "source": [
    "mean_yellow_cards = euro12['Yellow Cards'].mean()\n",
    "print(mean_yellow_cards)"
   ]
  },
  {
   "cell_type": "markdown",
   "id": "9d38bcc2",
   "metadata": {},
   "source": [
    "Step 10. Filter teams that scored more than 6 goals"
   ]
  },
  {
   "cell_type": "code",
   "execution_count": 86,
   "id": "7336e758",
   "metadata": {},
   "outputs": [
    {
     "name": "stdout",
     "output_type": "stream",
     "text": [
      "       Team  Goals  Shots on target  Shots off target Shooting Accuracy  \\\n",
      "5   Germany     10               32                32             47.8%   \n",
      "13    Spain     12               42                33             55.9%   \n",
      "\n",
      "   % Goals-to-shots  Total shots (inc. Blocked)  Hit Woodwork  Penalty goals  \\\n",
      "5             15.6%                          80             2              1   \n",
      "13            16.0%                         100             0              1   \n",
      "\n",
      "    Penalties not scored  ...  Saves made  Saves-to-shots ratio  Fouls Won  \\\n",
      "5                      0  ...          10                 62.6%         63   \n",
      "13                     0  ...          15                 93.8%        102   \n",
      "\n",
      "   Fouls Conceded  Offsides  Yellow Cards  Red Cards  Subs on  Subs off  \\\n",
      "5              49        12             4          0       15        15   \n",
      "13             83        19            11          0       17        17   \n",
      "\n",
      "    Players Used  \n",
      "5             17  \n",
      "13            18  \n",
      "\n",
      "[2 rows x 35 columns]\n"
     ]
    }
   ],
   "source": [
    "teams_more_than_six_goals = euro12[euro12['Goals'] > 6]\n",
    "print(teams_more_than_six_goals)"
   ]
  },
  {
   "cell_type": "markdown",
   "id": "3b3edcfb",
   "metadata": {},
   "source": [
    "Step 11. Select the teams that start with G"
   ]
  },
  {
   "cell_type": "code",
   "execution_count": 87,
   "id": "7ecc51c9",
   "metadata": {},
   "outputs": [
    {
     "name": "stdout",
     "output_type": "stream",
     "text": [
      "      Team  Goals  Shots on target  Shots off target Shooting Accuracy  \\\n",
      "5  Germany     10               32                32             47.8%   \n",
      "6   Greece      5                8                18             30.7%   \n",
      "\n",
      "  % Goals-to-shots  Total shots (inc. Blocked)  Hit Woodwork  Penalty goals  \\\n",
      "5            15.6%                          80             2              1   \n",
      "6            19.2%                          32             1              1   \n",
      "\n",
      "   Penalties not scored  ...  Saves made  Saves-to-shots ratio  Fouls Won  \\\n",
      "5                     0  ...          10                 62.6%         63   \n",
      "6                     1  ...          13                 65.1%         67   \n",
      "\n",
      "  Fouls Conceded  Offsides  Yellow Cards  Red Cards  Subs on  Subs off  \\\n",
      "5             49        12             4          0       15        15   \n",
      "6             48        12             9          1       12        12   \n",
      "\n",
      "   Players Used  \n",
      "5            17  \n",
      "6            20  \n",
      "\n",
      "[2 rows x 35 columns]\n"
     ]
    }
   ],
   "source": [
    "teams_start_with_G = euro12[euro12['Team'].str.startswith('G')]\n",
    "print(teams_start_with_G)"
   ]
  },
  {
   "cell_type": "code",
   "execution_count": null,
   "id": "6a27d050",
   "metadata": {},
   "outputs": [],
   "source": [
    "Step 12. Select the first 7 columns"
   ]
  },
  {
   "cell_type": "code",
   "execution_count": 88,
   "id": "275fe0d6",
   "metadata": {
    "scrolled": false
   },
   "outputs": [
    {
     "name": "stdout",
     "output_type": "stream",
     "text": [
      "                   Team  Goals  Shots on target  Shots off target  \\\n",
      "0               Croatia      4               13                12   \n",
      "1        Czech Republic      4               13                18   \n",
      "2               Denmark      4               10                10   \n",
      "3               England      5               11                18   \n",
      "4                France      3               22                24   \n",
      "5               Germany     10               32                32   \n",
      "6                Greece      5                8                18   \n",
      "7                 Italy      6               34                45   \n",
      "8           Netherlands      2               12                36   \n",
      "9                Poland      2               15                23   \n",
      "10             Portugal      6               22                42   \n",
      "11  Republic of Ireland      1                7                12   \n",
      "12               Russia      5                9                31   \n",
      "13                Spain     12               42                33   \n",
      "14               Sweden      5               17                19   \n",
      "15              Ukraine      2                7                26   \n",
      "\n",
      "   Shooting Accuracy % Goals-to-shots  Total shots (inc. Blocked)  \n",
      "0              51.9%            16.0%                          32  \n",
      "1              41.9%            12.9%                          39  \n",
      "2              50.0%            20.0%                          27  \n",
      "3              50.0%            17.2%                          40  \n",
      "4              37.9%             6.5%                          65  \n",
      "5              47.8%            15.6%                          80  \n",
      "6              30.7%            19.2%                          32  \n",
      "7              43.0%             7.5%                         110  \n",
      "8              25.0%             4.1%                          60  \n",
      "9              39.4%             5.2%                          48  \n",
      "10             34.3%             9.3%                          82  \n",
      "11             36.8%             5.2%                          28  \n",
      "12             22.5%            12.5%                          59  \n",
      "13             55.9%            16.0%                         100  \n",
      "14             47.2%            13.8%                          39  \n",
      "15             21.2%             6.0%                          38  \n"
     ]
    }
   ],
   "source": [
    "first_seven_columns = euro12.iloc[:, :7]\n",
    "print(first_seven_columns)"
   ]
  },
  {
   "cell_type": "markdown",
   "id": "8fcb6dd6",
   "metadata": {},
   "source": [
    "Step 13. Select all columns except the last 3"
   ]
  },
  {
   "cell_type": "code",
   "execution_count": 89,
   "id": "518e0d33",
   "metadata": {},
   "outputs": [
    {
     "name": "stdout",
     "output_type": "stream",
     "text": [
      "                   Team  Goals  Shots on target  Shots off target  \\\n",
      "0               Croatia      4               13                12   \n",
      "1        Czech Republic      4               13                18   \n",
      "2               Denmark      4               10                10   \n",
      "3               England      5               11                18   \n",
      "4                France      3               22                24   \n",
      "5               Germany     10               32                32   \n",
      "6                Greece      5                8                18   \n",
      "7                 Italy      6               34                45   \n",
      "8           Netherlands      2               12                36   \n",
      "9                Poland      2               15                23   \n",
      "10             Portugal      6               22                42   \n",
      "11  Republic of Ireland      1                7                12   \n",
      "12               Russia      5                9                31   \n",
      "13                Spain     12               42                33   \n",
      "14               Sweden      5               17                19   \n",
      "15              Ukraine      2                7                26   \n",
      "\n",
      "   Shooting Accuracy % Goals-to-shots  Total shots (inc. Blocked)  \\\n",
      "0              51.9%            16.0%                          32   \n",
      "1              41.9%            12.9%                          39   \n",
      "2              50.0%            20.0%                          27   \n",
      "3              50.0%            17.2%                          40   \n",
      "4              37.9%             6.5%                          65   \n",
      "5              47.8%            15.6%                          80   \n",
      "6              30.7%            19.2%                          32   \n",
      "7              43.0%             7.5%                         110   \n",
      "8              25.0%             4.1%                          60   \n",
      "9              39.4%             5.2%                          48   \n",
      "10             34.3%             9.3%                          82   \n",
      "11             36.8%             5.2%                          28   \n",
      "12             22.5%            12.5%                          59   \n",
      "13             55.9%            16.0%                         100   \n",
      "14             47.2%            13.8%                          39   \n",
      "15             21.2%             6.0%                          38   \n",
      "\n",
      "    Hit Woodwork  Penalty goals  Penalties not scored  ...  Clean Sheets  \\\n",
      "0              0              0                     0  ...             0   \n",
      "1              0              0                     0  ...             1   \n",
      "2              1              0                     0  ...             1   \n",
      "3              0              0                     0  ...             2   \n",
      "4              1              0                     0  ...             1   \n",
      "5              2              1                     0  ...             1   \n",
      "6              1              1                     1  ...             1   \n",
      "7              2              0                     0  ...             2   \n",
      "8              2              0                     0  ...             0   \n",
      "9              0              0                     0  ...             0   \n",
      "10             6              0                     0  ...             2   \n",
      "11             0              0                     0  ...             0   \n",
      "12             2              0                     0  ...             0   \n",
      "13             0              1                     0  ...             5   \n",
      "14             3              0                     0  ...             1   \n",
      "15             0              0                     0  ...             0   \n",
      "\n",
      "    Blocks  Goals conceded Saves made  Saves-to-shots ratio  Fouls Won  \\\n",
      "0       10               3         13                 81.3%         41   \n",
      "1       10               6          9                 60.1%         53   \n",
      "2       10               5         10                 66.7%         25   \n",
      "3       29               3         22                 88.1%         43   \n",
      "4        7               5          6                 54.6%         36   \n",
      "5       11               6         10                 62.6%         63   \n",
      "6       23               7         13                 65.1%         67   \n",
      "7       18               7         20                 74.1%        101   \n",
      "8        9               5         12                 70.6%         35   \n",
      "9        8               3          6                 66.7%         48   \n",
      "10      11               4         10                 71.5%         73   \n",
      "11      23               9         17                 65.4%         43   \n",
      "12       8               3         10                 77.0%         34   \n",
      "13       8               1         15                 93.8%        102   \n",
      "14      12               5          8                 61.6%         35   \n",
      "15       4               4         13                 76.5%         48   \n",
      "\n",
      "    Fouls Conceded  Offsides  Yellow Cards  Red Cards  \n",
      "0               62         2             9          0  \n",
      "1               73         8             7          0  \n",
      "2               38         8             4          0  \n",
      "3               45         6             5          0  \n",
      "4               51         5             6          0  \n",
      "5               49        12             4          0  \n",
      "6               48        12             9          1  \n",
      "7               89        16            16          0  \n",
      "8               30         3             5          0  \n",
      "9               56         3             7          1  \n",
      "10              90        10            12          0  \n",
      "11              51        11             6          1  \n",
      "12              43         4             6          0  \n",
      "13              83        19            11          0  \n",
      "14              51         7             7          0  \n",
      "15              31         4             5          0  \n",
      "\n",
      "[16 rows x 32 columns]\n"
     ]
    }
   ],
   "source": [
    "all_columns_except_last_three = euro12.iloc[:, :-3]\n",
    "print(all_columns_except_last_three)"
   ]
  },
  {
   "cell_type": "markdown",
   "id": "816da5db",
   "metadata": {},
   "source": [
    "Step 14. Present only the Shooting Accuracy from England, Italy and Russia"
   ]
  },
  {
   "cell_type": "code",
   "execution_count": 90,
   "id": "40cd2940",
   "metadata": {},
   "outputs": [
    {
     "name": "stdout",
     "output_type": "stream",
     "text": [
      "       Team Shooting Accuracy\n",
      "3   England             50.0%\n",
      "7     Italy             43.0%\n",
      "12   Russia             22.5%\n"
     ]
    }
   ],
   "source": [
    "shooting_accuracy_eng_ita_rus = euro12[euro12['Team'].isin(['England', 'Italy', 'Russia'])][['Team', 'Shooting Accuracy']]\n",
    "print(shooting_accuracy_eng_ita_rus)"
   ]
  },
  {
   "cell_type": "markdown",
   "id": "a9b3d423",
   "metadata": {},
   "source": [
    "## Question 3\n",
    "Housing  \n",
    "Step 1. Import the necessary libraries  \n",
    "Step 2. Create 3 differents Series, each of length 100, as follows:  \n",
    "• The first a random number from 1 to 4  \n",
    "• The second a random number from 1 to 3  \n",
    "• The third a random number from 10,000 to 30,000  \n",
    "Step 3. Create a DataFrame by joinning the Series by column  \n",
    "Step 4. Change the name of the columns to bedrs, bathrs, price_sqr_meter  \n",
    "Step 5. Create a one column DataFrame with the values of the 3 Series and assign it to 'bigcolumn'  \n",
    "Step 6. Ops it seems it is going only until index 99. Is it true?  \n",
    "Step 7. Reindex the DataFrame so it goes from 0 to 299  "
   ]
  },
  {
   "cell_type": "code",
   "execution_count": 118,
   "id": "02e133aa",
   "metadata": {},
   "outputs": [
    {
     "name": "stdout",
     "output_type": "stream",
     "text": [
      "    bedrs  bathrs  price_sqr_meter\n",
      "0       1       2            22646\n",
      "1       2       3            10622\n",
      "2       1       2            24211\n",
      "3       4       2            18932\n",
      "4       1       2            15668\n",
      "..    ...     ...              ...\n",
      "95      2       1            18947\n",
      "96      2       1            26262\n",
      "97      2       1            19321\n",
      "98      4       3            21881\n",
      "99      3       1            10912\n",
      "\n",
      "[100 rows x 3 columns]\n",
      "True\n",
      "0          1\n",
      "1          2\n",
      "2          1\n",
      "3          4\n",
      "4          1\n",
      "       ...  \n",
      "295    18947\n",
      "296    26262\n",
      "297    19321\n",
      "298    21881\n",
      "299    10912\n",
      "Length: 300, dtype: int32\n"
     ]
    }
   ],
   "source": [
    "import pandas as pd\n",
    "import numpy as np\n",
    "\n",
    "series1 = pd.Series(np.random.randint(1, 5, size=100))\n",
    "series2 = pd.Series(np.random.randint(1, 4, size=100))\n",
    "series3 = pd.Series(np.random.randint(10000, 30001, size=100))\n",
    "\n",
    "df = pd.concat([series1, series2, series3], axis=1)\n",
    "df.columns = ['bedrs', 'bathrs', 'price_sqr_meter']\n",
    "print(df)\n",
    "\n",
    "bigcolumn = pd.concat([series1, series2, series3], axis=0)\n",
    "print(bigcolumn.index.max() == 99)\n",
    "\n",
    "bigcolumn = bigcolumn.reset_index(drop=True)\n",
    "print(bigcolumn)\n"
   ]
  },
  {
   "cell_type": "markdown",
   "id": "d3395d03",
   "metadata": {},
   "source": [
    "## Question 4\n",
    "Wind Statistics   \n",
    "The data have been modified to contain some missing values, identified by NaN. Using pandas should make this exercise easier, in particular for the bonus question.  \n",
    "  \n",
    "You should be able to perform all of these operations without using a for loop or other looping construct.  \n",
    "  \n",
    "The data in 'wind.data' has the following format:  \n",
    "Yr Mo Dy RPT VAL ROS KIL SHA BIR DUB CLA MUL CLO BEL MAL  \n",
    "61 1 1 15.04 14.96 13.17 9.29 NaN 9.87 13.67 10.25 10.83 12.58 18.50 15.04  \n",
    "61 1 2 14.71 NaN 10.83 6.50 12.62 7.67 11.50 10.04 9.79 9.67 17.54 13.83  \n",
    "61 1 3 18.50 16.88 12.33 10.13 11.17 6.17 11.25 NaN 8.50 7.67 12.75 12.71  \n",
    "\n",
    "The first three columns are year, month, and day. The remaining 12 columns are average windspeeds in knots at 12 locations in Ireland on that day.  \n",
    "  \n",
    "Step 1. Import the necessary libraries  \n",
    "Step 2. Import the dataset from the attached file wind.txt  \n",
    "Step 3. Assign it to a variable called data and replace the first 3 columns by a proper datetime index.  \n",
    "Step 4. Year 2061? Do we really have data from this year? Create a function to fix it and apply it.  \n",
    "Step 5. Set the right dates as the index. Pay attention at the data type, it should be datetime64[ns].  "
   ]
  },
  {
   "cell_type": "code",
   "execution_count": 183,
   "id": "735f1a81",
   "metadata": {},
   "outputs": [
    {
     "name": "stdout",
     "output_type": "stream",
     "text": [
      "datetime64[ns]\n",
      "              RPT    VAL    ROS    KIL    SHA    BIR    DUB    CLA    MUL  \\\n",
      "date                                                                        \n",
      "1961-01-01  15.04  14.96  13.17   9.29    NaN   9.87  13.67  10.25  10.83   \n",
      "1961-01-02  14.71    NaN  10.83   6.50  12.62   7.67  11.50  10.04   9.79   \n",
      "1961-01-03  18.50  16.88  12.33  10.13  11.17   6.17  11.25    NaN   8.50   \n",
      "1961-01-04  10.58   6.63  11.75   4.58   4.54   2.88   8.63   1.79   5.83   \n",
      "1961-01-05  13.33  13.25  11.42   6.17  10.71   8.21  11.92   6.54  10.92   \n",
      "...           ...    ...    ...    ...    ...    ...    ...    ...    ...   \n",
      "1978-12-27  17.58  16.96  17.62   8.08  13.21  11.67  14.46  15.59  14.04   \n",
      "1978-12-28  13.21   5.46  13.46   5.00   8.12   9.42  14.33  16.25  15.25   \n",
      "1978-12-29  14.00  10.29  14.42   8.71   9.71  10.54  19.17  12.46  14.50   \n",
      "1978-12-30  18.50  14.04  21.29   9.13  12.75   9.71  18.08  12.87  12.46   \n",
      "1978-12-31  20.33  17.41  27.29   9.59  12.08  10.13  19.25  11.63  11.58   \n",
      "\n",
      "              CLO    BEL    MAL  \n",
      "date                             \n",
      "1961-01-01  12.58  18.50  15.04  \n",
      "1961-01-02   9.67  17.54  13.83  \n",
      "1961-01-03   7.67  12.75  12.71  \n",
      "1961-01-04   5.88   5.46  10.88  \n",
      "1961-01-05  10.34  12.92  11.83  \n",
      "...           ...    ...    ...  \n",
      "1978-12-27  14.00  17.21  40.08  \n",
      "1978-12-28  18.05  21.79  41.46  \n",
      "1978-12-29  16.42  18.88  29.58  \n",
      "1978-12-30  12.12  14.67  28.79  \n",
      "1978-12-31  11.38  12.08  22.08  \n",
      "\n",
      "[6574 rows x 12 columns]\n"
     ]
    }
   ],
   "source": [
    "import pandas as pd\n",
    "import numpy as np\n",
    "\n",
    "data = pd.read_csv('wind.txt', delim_whitespace=True)\n",
    "data['date'] = pd.to_datetime(data[['Yr', 'Mo', 'Dy']].astype(str).apply(''.join, axis=1), format='%y%m%d')\n",
    "data = data.drop(columns=['Yr', 'Mo', 'Dy'])\n",
    "\n",
    "def fix_year(year):\n",
    "    if year > pd.Timestamp('2000-01-01'):\n",
    "        return year - pd.DateOffset(years=100)\n",
    "    else:\n",
    "        return year\n",
    "    \n",
    "data['date'] = data['date'].apply(fix_year)\n",
    "print(data['date'].dtype)\n",
    "data=data.set_index('date')\n",
    "print(data)\n"
   ]
  },
  {
   "cell_type": "markdown",
   "id": "e98c66ac",
   "metadata": {},
   "source": [
    "Step 6. Compute how many values are missing for each location over the entire record.They should be ignored in all calculations below.   "
   ]
  },
  {
   "cell_type": "code",
   "execution_count": 182,
   "id": "fc97e34f",
   "metadata": {
    "scrolled": true
   },
   "outputs": [
    {
     "name": "stdout",
     "output_type": "stream",
     "text": [
      "RPT    6\n",
      "VAL    3\n",
      "ROS    2\n",
      "KIL    5\n",
      "SHA    2\n",
      "BIR    0\n",
      "DUB    3\n",
      "CLA    2\n",
      "MUL    3\n",
      "CLO    1\n",
      "BEL    0\n",
      "MAL    4\n",
      "dtype: int64\n"
     ]
    }
   ],
   "source": [
    "missing_values = data.isna().sum()\n",
    "print(missing_values)"
   ]
  },
  {
   "cell_type": "markdown",
   "id": "1af18d3c",
   "metadata": {},
   "source": [
    "Step 7. Compute how many non-missing values there are in total.  "
   ]
  },
  {
   "cell_type": "code",
   "execution_count": 180,
   "id": "f19aa0c7",
   "metadata": {},
   "outputs": [
    {
     "name": "stdout",
     "output_type": "stream",
     "text": [
      "78857\n"
     ]
    }
   ],
   "source": [
    "total_non_missing_values = data.count().sum()\n",
    "print(total_non_missing_values)"
   ]
  },
  {
   "cell_type": "markdown",
   "id": "ae454d0f",
   "metadata": {},
   "source": [
    "Step 8. Calculate the mean windspeeds of the windspeeds over all the locations and all the times.  \n",
    "A single number for the entire dataset.  "
   ]
  },
  {
   "cell_type": "code",
   "execution_count": 179,
   "id": "aaef2fd2",
   "metadata": {},
   "outputs": [
    {
     "name": "stdout",
     "output_type": "stream",
     "text": [
      "10.227982360836924\n"
     ]
    }
   ],
   "source": [
    "mean_windspeed = data.mean().mean()\n",
    "print(mean_windspeed)"
   ]
  },
  {
   "cell_type": "markdown",
   "id": "f3f57d56",
   "metadata": {},
   "source": [
    "Step 9. Create a DataFrame called loc_stats and calculate the min, max and mean windspeeds and standard deviations of the windspeeds at each location over all the days. A different set of numbers for each location.  "
   ]
  },
  {
   "cell_type": "code",
   "execution_count": 175,
   "id": "fda18d77",
   "metadata": {},
   "outputs": [
    {
     "name": "stdout",
     "output_type": "stream",
     "text": [
      "      min    max       mean       std\n",
      "RPT  0.67  35.80  12.362987  5.618413\n",
      "VAL  0.21  33.37  10.644314  5.267356\n",
      "ROS  1.50  33.84  11.660526  5.008450\n",
      "KIL  0.00  28.46   6.306468  3.605811\n",
      "SHA  0.13  37.54  10.455834  4.936125\n",
      "BIR  0.00  26.16   7.092254  3.968683\n",
      "DUB  0.00  30.37   9.797343  4.977555\n",
      "CLA  0.00  31.08   8.495053  4.499449\n",
      "MUL  0.00  25.88   8.493590  4.166872\n",
      "CLO  0.04  28.21   8.707332  4.503954\n",
      "BEL  0.13  42.38  13.121007  5.835037\n",
      "MAL  0.67  42.54  15.599079  6.699794\n"
     ]
    }
   ],
   "source": [
    "loc_stats = pd.DataFrame()\n",
    "loc_stats['min'] = data.min()\n",
    "loc_stats['max'] = data.max()\n",
    "loc_stats['mean'] = data.mean()\n",
    "loc_stats['std'] = data.std()\n",
    "print(loc_stats)"
   ]
  },
  {
   "cell_type": "markdown",
   "id": "e90a0ffb",
   "metadata": {},
   "source": [
    "Step 10. Create a DataFrame called day_stats and calculate the min, max and mean windspeed and standard deviations of the windspeeds across all the locations at each day. A different set of numbers for each day.  "
   ]
  },
  {
   "cell_type": "code",
   "execution_count": 185,
   "id": "63be561c",
   "metadata": {
    "scrolled": true
   },
   "outputs": [
    {
     "name": "stdout",
     "output_type": "stream",
     "text": [
      "             min    max       mean       std\n",
      "date                                        \n",
      "1961-01-01  9.29  18.50  13.018182  2.808875\n",
      "1961-01-02  6.50  17.54  11.336364  3.188994\n",
      "1961-01-03  6.17  18.50  11.641818  3.681912\n",
      "1961-01-04  1.79  11.75   6.619167  3.198126\n",
      "1961-01-05  6.17  13.33  10.630000  2.445356\n",
      "...          ...    ...        ...       ...\n",
      "1978-12-27  8.08  40.08  16.708333  7.868076\n",
      "1978-12-28  5.00  41.46  15.150000  9.687857\n",
      "1978-12-29  8.71  29.58  14.890000  5.756836\n",
      "1978-12-30  9.13  28.79  15.367500  5.540437\n",
      "1978-12-31  9.59  27.29  15.402500  5.702483\n",
      "\n",
      "[6574 rows x 4 columns]\n"
     ]
    }
   ],
   "source": [
    "day_stats = pd.DataFrame()\n",
    "day_stats['min'] = data.min(axis=1)\n",
    "day_stats['max'] = data.max(axis=1)\n",
    "day_stats['mean'] = data.mean(axis=1)\n",
    "day_stats['std'] = data.std(axis=1)\n",
    "print(day_stats)"
   ]
  },
  {
   "cell_type": "markdown",
   "id": "98a3bb94",
   "metadata": {},
   "source": [
    "Step 11. Find the average windspeed in January for each location.Treat January 1961 and January 1962 both as January.  "
   ]
  },
  {
   "cell_type": "code",
   "execution_count": 184,
   "id": "a3055bd5",
   "metadata": {},
   "outputs": [
    {
     "name": "stdout",
     "output_type": "stream",
     "text": [
      "RPT    14.407735\n",
      "VAL    12.362146\n",
      "ROS    13.290470\n",
      "KIL     6.926239\n",
      "SHA    11.205064\n",
      "BIR     7.827393\n",
      "DUB    11.953120\n",
      "CLA     9.377511\n",
      "MUL     9.469915\n",
      "CLO     9.880812\n",
      "BEL    14.582350\n",
      "MAL    18.332051\n",
      "dtype: float64\n"
     ]
    }
   ],
   "source": [
    "jan_data = data[data.index.month == 1]\n",
    "jan_avg_windspeed = jan_data.mean()\n",
    "print(jan_avg_windspeed)"
   ]
  },
  {
   "cell_type": "markdown",
   "id": "2a226e46",
   "metadata": {},
   "source": [
    "Step 12. Downsample the record to a yearly frequency for each location.  "
   ]
  },
  {
   "cell_type": "code",
   "execution_count": 188,
   "id": "99f8fd59",
   "metadata": {},
   "outputs": [
    {
     "name": "stdout",
     "output_type": "stream",
     "text": [
      "                  RPT        VAL        ROS       KIL        SHA       BIR  \\\n",
      "date                                                                         \n",
      "1961-12-31  12.299583  10.351796  11.362369  6.958227  10.881763  7.729726   \n",
      "1962-12-31  12.246923  10.110438  11.732712  6.960440  10.657918  7.393068   \n",
      "1963-12-31  12.813452  10.836986  12.541151  7.330055  11.724110  8.434712   \n",
      "1964-12-31  12.363661  10.920164  12.104372  6.787787  11.454481  7.570874   \n",
      "1965-12-31  12.451370  11.075534  11.848767  6.858466  11.024795  7.478110   \n",
      "1966-12-31  13.461973  11.557205  12.020630  7.345726  11.805041  7.793671   \n",
      "1967-12-31  12.737151  10.990986  11.739397  7.143425  11.630740  7.368164   \n",
      "1968-12-31  11.835628  10.468197  11.409754  6.477678  10.760765  6.067322   \n",
      "1969-12-31  11.166356   9.723699  10.902000  5.767973   9.873918  6.189973   \n",
      "1970-12-31  12.600329  10.726932  11.730247  6.217178  10.567370  7.609452   \n",
      "1971-12-31  11.273123   9.095178  11.088329  5.241507   9.440329  6.097151   \n",
      "1972-12-31  12.463962  10.561311  12.058333  5.929699   9.430410  6.358825   \n",
      "1973-12-31  11.828466  10.680493  10.680493  5.547863   9.640877  6.548740   \n",
      "1974-12-31  13.643096  11.811781  12.336356  6.427041  11.110986  6.809781   \n",
      "1975-12-31  12.008575  10.293836  11.564712  5.269096   9.190082  5.668521   \n",
      "1976-12-31  11.737842  10.203115  10.761230  5.109426   8.846339  6.311038   \n",
      "1977-12-31  13.099616  11.144493  12.627836  6.073945  10.003836  8.586438   \n",
      "1978-12-31  12.504356  11.044274  11.380000  6.082356  10.167233  7.650658   \n",
      "\n",
      "                  DUB        CLA       MUL        CLO        BEL        MAL  \n",
      "date                                                                         \n",
      "1961-12-31   9.733923   8.858788  8.647652   9.835577  13.502795  13.680773  \n",
      "1962-12-31  11.020712   8.793753  8.316822   9.676247  12.930685  14.323956  \n",
      "1963-12-31  11.075699  10.336548  8.903589  10.224438  13.638877  14.999014  \n",
      "1964-12-31  10.259153   9.467350  7.789016  10.207951  13.740546  14.910301  \n",
      "1965-12-31  10.618712   8.879918  7.907425   9.918082  12.964247  15.591644  \n",
      "1966-12-31  10.579808   8.835096  8.514438   9.768959  14.265836  16.307260  \n",
      "1967-12-31  10.652027   9.325616  8.645014   9.547425  14.774548  17.135945  \n",
      "1968-12-31   8.859180   8.255519  7.224945   7.832978  12.808634  15.017486  \n",
      "1969-12-31   8.564493   7.711397  7.924521   7.754384  12.621233  15.762904  \n",
      "1970-12-31   9.609890   8.334630  9.297616   8.289808  13.183644  16.456027  \n",
      "1971-12-31   8.385890   6.757315  7.915370   7.229753  12.208932  15.025233  \n",
      "1972-12-31   9.704508   7.680792  8.357295   7.515273  12.727377  15.028716  \n",
      "1973-12-31   8.482110   7.614274  8.245534   7.812411  12.169699  15.441096  \n",
      "1974-12-31  10.084603   9.896986  9.331753   8.736356  13.252959  16.947671  \n",
      "1975-12-31   8.562603   7.843836  8.797945   7.382822  12.631671  15.307863  \n",
      "1976-12-31   9.149126   7.146202  8.883716   7.883087  12.332377  15.471448  \n",
      "1977-12-31  11.523205   8.378384  9.098192   8.821616  13.459068  16.590849  \n",
      "1978-12-31   9.489342   8.800466  9.089753   8.301699  12.967397  16.771370  \n"
     ]
    }
   ],
   "source": [
    "yearly_data = data.resample('Y').mean()\n",
    "print(yearly_data)"
   ]
  },
  {
   "cell_type": "markdown",
   "id": "8142a36f",
   "metadata": {},
   "source": [
    "Step 13. Downsample the record to a monthly frequency for each location.  "
   ]
  },
  {
   "cell_type": "code",
   "execution_count": 190,
   "id": "92105807",
   "metadata": {},
   "outputs": [
    {
     "name": "stdout",
     "output_type": "stream",
     "text": [
      "                  RPT        VAL        ROS       KIL        SHA        BIR  \\\n",
      "date                                                                          \n",
      "1961-01-31  13.983846  12.385833  11.666923  6.826923  10.151667   7.179231   \n",
      "1961-02-28  16.269286  14.975357  14.441481  9.230741  13.852143  10.937500   \n",
      "1961-03-31  10.890000  11.296452  10.752903  7.284000  10.509355   8.866774   \n",
      "1961-04-30  10.722667   9.427667   9.998000  5.830667   8.435000   6.495000   \n",
      "1961-05-31   9.860968   8.850000  10.818065  5.905333   9.490323   6.574839   \n",
      "...               ...        ...        ...       ...        ...        ...   \n",
      "1978-08-31   9.645161   8.259355   9.032258  4.502903   7.368065   5.935161   \n",
      "1978-09-30  10.913667  10.895000  10.635000  5.725000  10.372000   9.278333   \n",
      "1978-10-31   9.897742   8.670968   9.295806  4.721290   8.525161   6.774194   \n",
      "1978-11-30  15.193846  13.518462  13.178974  6.747949  10.729487   7.887692   \n",
      "1978-12-31  16.742250  13.925500  15.323250  7.552750  12.120750   9.282250   \n",
      "\n",
      "                  DUB        CLA        MUL        CLO        BEL        MAL  \n",
      "date                                                                          \n",
      "1961-01-31  11.008462   7.600833   8.442308   8.879231  12.714615  13.451538  \n",
      "1961-02-28  11.890714  11.846071  11.821429  12.714286  18.583214  15.411786  \n",
      "1961-03-31   9.644194   9.829677  10.294138  11.251935  16.410968  15.720000  \n",
      "1961-04-30   6.925333   7.094667   7.342333   7.237000  11.147333  10.278333  \n",
      "1961-05-31   7.604000   8.177097   8.039355   8.499355  11.900323  12.011613  \n",
      "...               ...        ...        ...        ...        ...        ...  \n",
      "1978-08-31   5.650323   5.417742   7.241290   5.536774  10.466774  12.054194  \n",
      "1978-09-30  10.790333   9.583000  10.069333   8.939000  15.680333  19.391333  \n",
      "1978-10-31   8.115484   7.337742   8.297742   8.243871  13.776774  17.150000  \n",
      "1978-11-30  10.917692   8.927179   9.707949   9.619231  15.976667  19.875641  \n",
      "1978-12-31  12.662000  10.760000  10.956000  11.218000  14.545500  22.146000  \n",
      "\n",
      "[216 rows x 12 columns]\n"
     ]
    }
   ],
   "source": [
    "monthly_data = data.resample('M').mean()\n",
    "print(monthly_data)"
   ]
  },
  {
   "cell_type": "markdown",
   "id": "65414580",
   "metadata": {},
   "source": [
    "Step 14. Downsample the record to a weekly frequency for each location.  "
   ]
  },
  {
   "cell_type": "code",
   "execution_count": 191,
   "id": "36eb2dcb",
   "metadata": {},
   "outputs": [
    {
     "name": "stdout",
     "output_type": "stream",
     "text": [
      "                  RPT        VAL        ROS       KIL        SHA        BIR  \\\n",
      "date                                                                          \n",
      "1961-01-01  15.040000  14.960000  13.170000  9.290000        NaN   9.870000   \n",
      "1961-01-08  13.541429  11.486667  10.487143  6.417143   9.474286   6.435714   \n",
      "1961-01-15  12.975000  10.975000  14.750000  6.540000  10.040000   6.665000   \n",
      "1961-01-22   9.590000  11.830000   7.960000  1.580000   7.920000   5.000000   \n",
      "1961-01-29        NaN        NaN        NaN       NaN        NaN        NaN   \n",
      "...               ...        ...        ...       ...        ...        ...   \n",
      "1978-12-03  15.695000  12.454000  13.829000  6.538000  11.677000   9.042000   \n",
      "1978-12-10  20.078462  16.865385  15.906154  9.553077  14.863077  11.086923   \n",
      "1978-12-17  16.758571  14.692857  14.987143  6.917143  11.397143   7.272857   \n",
      "1978-12-24  11.155714   8.008571  13.172857  4.004286   7.825714   6.290000   \n",
      "1978-12-31  14.951429  11.801429  16.035714  6.507143   9.660000   8.620000   \n",
      "\n",
      "                  DUB        CLA        MUL        CLO        BEL        MAL  \n",
      "date                                                                          \n",
      "1961-01-01  13.670000  10.250000  10.830000  12.580000  18.500000  15.040000  \n",
      "1961-01-08  11.061429   6.616667   8.434286   8.497143  12.481429  13.238571  \n",
      "1961-01-15   9.730000   8.960000   8.165000   9.040000  10.810000  13.600000  \n",
      "1961-01-22   3.170000   4.920000   3.130000   3.370000   6.500000   6.790000  \n",
      "1961-01-29        NaN        NaN        NaN        NaN        NaN        NaN  \n",
      "...               ...        ...        ...        ...        ...        ...  \n",
      "1978-12-03  10.779000   9.089000  10.158000  10.300000  12.910000  19.077000  \n",
      "1978-12-10  14.834615  12.668462  12.900769  13.018462  18.118462  25.006154  \n",
      "1978-12-17  10.208571   7.967143   9.168571   8.565714  11.102857  15.562857  \n",
      "1978-12-24   7.798571   8.667143   7.151429   8.072857  11.845714  18.977143  \n",
      "1978-12-31  13.708571  10.477143  10.868571  11.471429  12.947143  26.844286  \n",
      "\n",
      "[940 rows x 12 columns]\n"
     ]
    }
   ],
   "source": [
    "weekly_data = data.resample('W').mean()\n",
    "print(weekly_data)"
   ]
  },
  {
   "cell_type": "markdown",
   "id": "060602c5",
   "metadata": {},
   "source": [
    "Step 15. Calculate the min, max and mean windspeeds and standard deviations of the windspeeds across all locations for each week (assume that the first week starts on January 2 1961) for the first 52 weeks."
   ]
  },
  {
   "cell_type": "code",
   "execution_count": 196,
   "id": "8749e20c",
   "metadata": {},
   "outputs": [
    {
     "name": "stdout",
     "output_type": "stream",
     "text": [
      "Weekly Statistics for Windspeeds (First 52 Weeks):\n",
      "           RPT                               VAL                              \\\n",
      "           min    max       mean       std   min    max       mean       std   \n",
      "week_num                                                                       \n",
      "1         2.62  33.34  13.920000  6.341312  0.54  28.50  11.710880  5.976741   \n",
      "2         5.29  28.75  15.444717  5.462035  3.29  26.63  13.504528  5.408451   \n",
      "3         7.54  22.37  13.676154  4.875431  3.96  16.38  11.921538  3.616921   \n",
      "4         2.08  24.25  16.208333  6.112314  2.83  23.67  14.823333  6.898560   \n",
      "5         2.71  33.84  14.640098  5.648340  1.17  26.38  12.991569  6.075989   \n",
      "6         2.79  30.13  13.203730  5.620867  0.79  30.96  11.508492  5.845671   \n",
      "7         2.92  29.17  14.517460  5.916627  2.67  28.16  12.681349  5.974678   \n",
      "8         1.54  32.38  13.422857  5.923096  0.63  29.33  11.822937  5.428889   \n",
      "9         0.67  28.91  12.761360  5.240324  1.42  25.66  11.837460  5.206450   \n",
      "10        2.29  35.80  13.526720  6.165086  1.50  31.63  11.758095  5.842768   \n",
      "11        1.46  33.04  13.597143  6.412912  1.58  28.46  11.495079  5.553335   \n",
      "12        2.92  32.13  13.006825  5.509073  2.25  23.29  11.621032  5.109913   \n",
      "13        2.79  27.12  12.772540  5.278774  1.54  24.67  11.076349  5.126852   \n",
      "14        3.88  32.58  13.903968  5.698092  1.87  27.58  11.025238  5.048327   \n",
      "15        4.42  29.79  12.599444  5.335705  1.63  26.96   9.966667  4.679762   \n",
      "16        3.67  27.84  12.753968  5.248461  0.54  27.71  11.111587  5.032893   \n",
      "17        3.46  26.83  10.966349  5.378706  1.42  23.16   9.647698  4.758561   \n",
      "18        1.63  27.25  12.897222  4.367054  2.96  21.84  11.095079  4.274369   \n",
      "19        3.54  30.91  13.061429  5.517038  1.83  22.17  11.275159  4.345500   \n",
      "20        2.42  25.17  11.338571  5.404169  1.63  22.95   9.769200  4.876184   \n",
      "21        2.62  28.79  11.282698  5.200316  1.25  26.00   9.673889  4.471767   \n",
      "22        2.04  21.84   9.673333  4.053188  2.21  19.55   8.264683  3.521804   \n",
      "23        2.17  23.21  10.092143  4.516349  1.83  18.71   8.980556  3.909693   \n",
      "24        1.00  21.59  10.131905  4.410570  1.71  19.33   8.741984  4.503438   \n",
      "25        2.92  22.71  11.680238  4.415008  1.79  21.04   9.898016  4.116320   \n",
      "26        3.46  20.50  10.036000  3.868826  1.79  17.46   8.770635  3.476639   \n",
      "27        2.00  25.84   9.991984  4.742847  1.00  18.08   7.916984  3.715586   \n",
      "28        2.75  22.50   9.962143  4.661313  1.96  19.29   8.272619  3.932700   \n",
      "29        1.71  22.34  10.281746  4.578130  0.96  18.54   8.422063  3.921746   \n",
      "30        1.25  20.33   9.760397  4.056483  2.08  16.29   8.211984  3.535041   \n",
      "31        2.79  22.42   9.721984  4.143365  0.71  19.41   8.218571  3.691241   \n",
      "32        2.67  20.08  10.202640  3.982815  1.17  17.62   8.669683  4.076909   \n",
      "33        3.17  26.38  10.213254  4.914926  1.46  23.42   8.000476  4.180112   \n",
      "34        2.42  24.67  10.675556  4.874965  0.83  20.12   9.065317  4.372665   \n",
      "35        0.96  23.38  10.378571  4.976603  1.13  23.54   8.525476  4.816354   \n",
      "36        1.50  29.54  10.764365  5.086312  0.83  22.79   9.296190  4.585837   \n",
      "37        1.79  31.42  11.371190  5.662910  1.75  28.50   9.722857  4.902647   \n",
      "38        0.79  24.79   9.929524  4.585719  0.87  23.09   8.863095  4.646788   \n",
      "39        3.37  27.00  13.960635  5.313510  1.38  25.08  12.361920  4.898134   \n",
      "40        2.37  25.29  12.199841  4.458238  0.75  24.17  10.619127  4.799801   \n",
      "41        3.04  25.92  12.260800  5.400736  0.21  22.83  10.581508  5.352465   \n",
      "42        2.04  28.62  12.777460  5.718162  1.21  23.58  10.966587  5.149048   \n",
      "43        1.50  29.08  13.358651  6.116732  1.21  26.71  11.915238  5.455591   \n",
      "44        2.00  32.17  14.077179  5.833335  1.08  33.04  12.215077  5.859151   \n",
      "45        1.63  33.12  14.400698  6.254240  1.50  30.34  12.762605  5.849996   \n",
      "46        2.92  30.21  14.096846  6.405892  1.75  27.63  12.565000  6.124571   \n",
      "47        2.67  26.50  11.731508  5.234852  1.21  26.46  10.361667  5.278304   \n",
      "48        3.08  34.37  13.817239  6.125372  1.46  33.37  12.136074  6.074723   \n",
      "49        0.67  35.38  14.776094  6.192947  0.42  29.88  13.048205  5.657554   \n",
      "50        1.96  30.91  14.520350  6.803921  0.75  25.17  12.493846  6.131647   \n",
      "51        1.79  28.71  13.639921  5.313674  0.54  29.38  11.697619  5.537990   \n",
      "52        3.00  32.50  14.469134  5.701056  1.46  26.54  11.692283  5.488104   \n",
      "\n",
      "           ROS         ...        CLO             BEL                    \\\n",
      "           min    max  ...       mean       std   min    max       mean   \n",
      "week_num               ...                                                \n",
      "1         3.79  28.67  ...   9.870635  5.290276  0.58  38.20  14.241746   \n",
      "2         3.54  26.67  ...   9.559434  4.675396  1.71  31.08  14.948302   \n",
      "3         6.38  22.50  ...   9.860769  4.533910  6.50  23.04  14.151538   \n",
      "4         4.54  27.12  ...  11.393333  5.546597  7.50  29.88  16.794167   \n",
      "5         3.21  28.16  ...  10.153431  4.793620  2.04  27.71  14.735392   \n",
      "6         3.67  28.75  ...   9.298175  4.624377  2.04  28.12  13.903254   \n",
      "7         3.50  28.96  ...   9.605476  5.241451  2.67  32.08  13.776667   \n",
      "8         2.37  32.71  ...   9.541984  5.096524  2.17  35.08  13.132302   \n",
      "9         2.50  28.42  ...   9.611508  4.548139  2.13  31.13  13.724048   \n",
      "10        3.42  32.75  ...   9.761429  4.978696  2.21  32.63  13.055000   \n",
      "11        2.92  31.83  ...  10.398730  5.112287  2.25  34.92  13.823968   \n",
      "12        3.17  30.84  ...  10.259048  4.517893  2.96  31.71  14.389524   \n",
      "13        2.71  24.08  ...  10.038571  4.379889  2.50  32.21  14.241667   \n",
      "14        3.04  29.04  ...   9.948175  4.384778  2.88  25.50  13.386270   \n",
      "15        1.75  30.54  ...   9.338413  4.272218  4.46  27.00  12.842460   \n",
      "16        3.33  27.04  ...   9.326905  4.220644  3.21  23.96  12.472857   \n",
      "17        2.54  29.79  ...   8.238333  4.217093  3.75  26.12  11.971667   \n",
      "18        3.58  21.21  ...   8.952857  4.082519  3.29  28.33  12.928968   \n",
      "19        2.29  27.67  ...   9.243254  4.348034  4.71  32.91  13.721984   \n",
      "20        3.46  23.25  ...   8.507540  4.520118  4.12  26.42  12.740952   \n",
      "21        3.04  26.20  ...   8.278413  3.691034  3.21  28.12  12.536270   \n",
      "22        3.50  25.50  ...   7.247222  3.354776  2.67  26.38  11.238810   \n",
      "23        2.75  27.25  ...   7.173810  3.366850  4.04  21.34  11.605635   \n",
      "24        1.87  28.58  ...   7.259524  3.994689  3.08  25.25  11.835873   \n",
      "25        4.21  22.54  ...   8.677063  4.260790  2.96  29.79  13.494762   \n",
      "26        1.83  19.00  ...   7.937778  3.233524  4.21  24.71  12.462222   \n",
      "27        2.83  20.33  ...   7.451349  3.720332  4.04  23.00  11.582857   \n",
      "28        3.42  22.04  ...   7.267063  3.662487  3.25  23.83  11.450159   \n",
      "29        2.92  23.00  ...   7.616349  3.733708  3.33  24.41  12.021667   \n",
      "30        2.50  25.12  ...   7.010317  3.470866  3.58  22.37  11.410794   \n",
      "31        3.08  21.42  ...   6.615556  3.502351  3.46  21.67  11.020317   \n",
      "32        4.21  21.62  ...   7.057840  3.676547  3.29  24.08  11.154365   \n",
      "33        2.92  27.88  ...   6.502460  4.084187  1.58  23.25  10.647222   \n",
      "34        3.54  19.83  ...   7.779206  4.206738  1.63  24.83  11.881667   \n",
      "35        2.42  20.75  ...   7.213175  4.115397  2.67  26.46  11.606825   \n",
      "36        2.29  23.21  ...   7.221905  3.713513  1.63  24.17  11.597619   \n",
      "37        2.96  31.63  ...   7.645952  4.671456  2.54  25.75  12.658968   \n",
      "38        2.37  22.54  ...   6.423095  3.609957  2.79  23.04  11.394127   \n",
      "39        2.25  22.95  ...   9.402540  4.402953  2.21  28.79  14.980000   \n",
      "40        2.54  29.54  ...   8.519524  3.747967  2.42  26.71  13.326429   \n",
      "41        2.37  22.63  ...   8.176825  4.367278  2.54  34.83  13.550952   \n",
      "42        1.96  26.83  ...   9.039286  4.454747  3.37  32.63  14.088175   \n",
      "43        2.17  25.12  ...   9.800873  4.621225  2.96  38.96  16.055873   \n",
      "44        2.37  27.37  ...   9.559487  4.790342  2.62  39.04  14.284103   \n",
      "45        3.67  32.25  ...   9.642093  4.613376  1.50  33.34  14.449116   \n",
      "46        1.83  33.25  ...   9.582923  5.302986  0.71  31.96  14.284692   \n",
      "47        1.50  28.21  ...   7.933095  4.176509  1.25  30.00  12.399762   \n",
      "48        3.00  28.46  ...   9.249939  4.873247  1.87  42.38  14.161288   \n",
      "49        2.75  28.08  ...  10.012222  4.745238  0.13  34.42  14.860000   \n",
      "50        2.83  27.12  ...   9.968462  5.475668  2.29  29.25  14.752168   \n",
      "51        3.92  27.54  ...   8.687937  4.269109  2.88  30.84  13.298889   \n",
      "52        2.13  33.84  ...   9.677953  4.510556  0.67  31.25  13.549055   \n",
      "\n",
      "                      MAL                              \n",
      "               std    min    max       mean       std  \n",
      "week_num                                               \n",
      "1         7.140370   4.17  37.63  18.249841  7.047385  \n",
      "2         6.456076   3.63  31.75  18.242830  6.881317  \n",
      "3         4.682403   6.79  32.83  19.094615  6.579779  \n",
      "4         8.027537  12.29  40.12  20.674167  8.356038  \n",
      "5         6.562903   4.83  34.25  17.584608  6.482263  \n",
      "6         6.420629   5.29  33.04  17.921587  6.092634  \n",
      "7         6.656479   5.09  37.04  17.130159  6.819665  \n",
      "8         6.070031   3.04  38.20  16.882540  7.251216  \n",
      "9         6.613164   3.17  31.66  16.602080  6.191920  \n",
      "10        6.240588   2.46  37.59  16.047381  6.572057  \n",
      "11        6.768240   4.54  40.37  17.331280  7.428510  \n",
      "12        5.967105   3.21  37.99  17.859365  6.902719  \n",
      "13        5.666283   2.04  31.20  16.486508  6.644671  \n",
      "14        5.398770   3.71  34.08  16.691349  6.979889  \n",
      "15        4.996957   4.33  33.95  15.900476  6.795427  \n",
      "16        5.012081   4.17  28.67  14.229524  5.328738  \n",
      "17        5.180717   2.21  32.05  13.097460  6.018248  \n",
      "18        5.451848   2.58  28.75  14.523810  6.216011  \n",
      "19        5.172165   3.33  26.83  14.288016  5.699596  \n",
      "20        5.203613   3.58  32.17  13.859286  5.865042  \n",
      "21        4.948721   4.04  29.50  13.626825  5.258812  \n",
      "22        4.550995   1.75  28.04  11.770317  5.001233  \n",
      "23        4.118631   2.21  32.79  12.395476  5.383357  \n",
      "24        5.061491   2.79  27.16  12.041270  5.419266  \n",
      "25        4.703843   3.08  28.38  14.329841  5.873487  \n",
      "26        4.694937   4.54  25.17  12.993840  4.516285  \n",
      "27        4.091140   4.50  29.63  13.096984  5.292558  \n",
      "28        4.626530   2.13  28.46  12.932460  5.565273  \n",
      "29        4.682591   2.29  25.37  12.880476  5.472898  \n",
      "30        4.371903   2.88  25.37  12.279683  5.055287  \n",
      "31        4.278601   2.25  24.83  12.348492  5.053851  \n",
      "32        4.323404   3.04  29.95  12.746587  5.353812  \n",
      "33        4.965292   2.17  34.33  11.315680  5.587084  \n",
      "34        5.508187   3.37  30.46  13.764762  5.642352  \n",
      "35        5.625526   3.83  28.84  13.390873  5.962103  \n",
      "36        4.557266   3.37  30.34  13.754921  5.692819  \n",
      "37        5.426080   2.83  35.13  14.827540  6.350553  \n",
      "38        4.955622   0.67  29.63  13.094921  5.420672  \n",
      "39        6.182079   4.04  33.63  16.928095  6.943457  \n",
      "40        5.946722   2.04  32.96  15.758095  6.364950  \n",
      "41        6.480897   3.33  36.51  15.663571  6.537501  \n",
      "42        6.166586   5.04  33.45  17.116111  6.401907  \n",
      "43        6.493643   6.17  36.63  18.580952  6.799425  \n",
      "44        6.707360   4.54  37.59  17.692462  7.021542  \n",
      "45        6.108080   2.96  38.04  18.232791  7.140148  \n",
      "46        6.804521   2.00  41.25  19.428923  8.585392  \n",
      "47        5.642172   4.25  34.83  16.473254  6.677397  \n",
      "48        6.425922   4.79  42.54  17.849571  6.642826  \n",
      "49        6.190180   3.25  38.79  18.847436  7.020126  \n",
      "50        6.741378   6.50  37.12  18.312517  6.500093  \n",
      "51        6.342417   2.62  38.25  17.182063  6.303056  \n",
      "52        6.384876   4.58  41.46  19.183228  6.834899  \n",
      "\n",
      "[52 rows x 48 columns]\n"
     ]
    }
   ],
   "source": [
    "data['week_num'] = data.index.isocalendar().week\n",
    "\n",
    "first_52_weeks_data = data[data['week_num'] <= 52]\n",
    "\n",
    "weekly_stats = first_52_weeks_data.groupby('week_num').agg(['min', 'max', 'mean', 'std'])\n",
    "\n",
    "print(\"Weekly Statistics for Windspeeds (First 52 Weeks):\")\n",
    "print(weekly_stats)\n",
    "\n"
   ]
  },
  {
   "cell_type": "markdown",
   "id": "127e6adb",
   "metadata": {},
   "source": [
    "## Question 5\n",
    "Step 1. Import the necessary libraries  \n",
    "Step 2. Import the dataset from this address.  \n",
    "Step 3. Assign it to a variable called chipo.  \n",
    "Step 4. See the first 10 entries    "
   ]
  },
  {
   "cell_type": "code",
   "execution_count": 388,
   "id": "5ca971c8",
   "metadata": {},
   "outputs": [
    {
     "name": "stdout",
     "output_type": "stream",
     "text": [
      "   order_id  quantity                              item_name  \\\n",
      "0         1         1           Chips and Fresh Tomato Salsa   \n",
      "1         1         1                                   Izze   \n",
      "2         1         1                       Nantucket Nectar   \n",
      "3         1         1  Chips and Tomatillo-Green Chili Salsa   \n",
      "4         2         2                           Chicken Bowl   \n",
      "5         3         1                           Chicken Bowl   \n",
      "6         3         1                          Side of Chips   \n",
      "7         4         1                          Steak Burrito   \n",
      "8         4         1                       Steak Soft Tacos   \n",
      "9         5         1                          Steak Burrito   \n",
      "\n",
      "                                  choice_description item_price  \n",
      "0                                                NaN     $2.39   \n",
      "1                                       [Clementine]     $3.39   \n",
      "2                                            [Apple]     $3.39   \n",
      "3                                                NaN     $2.39   \n",
      "4  [Tomatillo-Red Chili Salsa (Hot), [Black Beans...    $16.98   \n",
      "5  [Fresh Tomato Salsa (Mild), [Rice, Cheese, Sou...    $10.98   \n",
      "6                                                NaN     $1.69   \n",
      "7  [Tomatillo Red Chili Salsa, [Fajita Vegetables...    $11.75   \n",
      "8  [Tomatillo Green Chili Salsa, [Pinto Beans, Ch...     $9.25   \n",
      "9  [Fresh Tomato Salsa, [Rice, Black Beans, Pinto...     $9.25   \n"
     ]
    }
   ],
   "source": [
    "import pandas as pd\n",
    "url = 'https://raw.githubusercontent.com/justmarkham/DAT8/master/data/chipotle.tsv'\n",
    "chipo = pd.read_csv(url, sep='\\t')\n",
    "print(chipo.head(10))"
   ]
  },
  {
   "cell_type": "markdown",
   "id": "c13b147c",
   "metadata": {},
   "source": [
    "Step 5. What is the number of observations in the dataset?  "
   ]
  },
  {
   "cell_type": "code",
   "execution_count": 375,
   "id": "ad0f6021",
   "metadata": {},
   "outputs": [
    {
     "name": "stdout",
     "output_type": "stream",
     "text": [
      "4622\n"
     ]
    }
   ],
   "source": [
    "num_observations = chipo.shape[0]\n",
    "print(num_observations)"
   ]
  },
  {
   "cell_type": "markdown",
   "id": "24d9e336",
   "metadata": {},
   "source": [
    "Step 6. What is the number of columns in the dataset?  "
   ]
  },
  {
   "cell_type": "code",
   "execution_count": 376,
   "id": "d60251cb",
   "metadata": {},
   "outputs": [
    {
     "name": "stdout",
     "output_type": "stream",
     "text": [
      "5\n"
     ]
    }
   ],
   "source": [
    "num_columns = chipo.shape[1]\n",
    "print(num_columns)"
   ]
  },
  {
   "cell_type": "markdown",
   "id": "26574647",
   "metadata": {},
   "source": [
    "Step 7. Print the name of all the columns.  "
   ]
  },
  {
   "cell_type": "code",
   "execution_count": 377,
   "id": "995a9001",
   "metadata": {},
   "outputs": [
    {
     "name": "stdout",
     "output_type": "stream",
     "text": [
      "['order_id', 'quantity', 'item_name', 'choice_description', 'item_price']\n"
     ]
    }
   ],
   "source": [
    "print(chipo.columns.tolist())"
   ]
  },
  {
   "cell_type": "markdown",
   "id": "821e83f1",
   "metadata": {},
   "source": [
    "Step 8. How is the dataset indexed?  "
   ]
  },
  {
   "cell_type": "code",
   "execution_count": 378,
   "id": "75dec505",
   "metadata": {},
   "outputs": [
    {
     "name": "stdout",
     "output_type": "stream",
     "text": [
      "Index type: <class 'pandas.core.indexes.range.RangeIndex'>\n"
     ]
    }
   ],
   "source": [
    "print(\"Index type:\", type(chipo.index))"
   ]
  },
  {
   "cell_type": "markdown",
   "id": "2a96c8ef",
   "metadata": {},
   "source": [
    "Step 9. Which was the most-ordered item?  "
   ]
  },
  {
   "cell_type": "code",
   "execution_count": 379,
   "id": "86f4d8b8",
   "metadata": {},
   "outputs": [
    {
     "name": "stdout",
     "output_type": "stream",
     "text": [
      "Chicken Bowl\n"
     ]
    }
   ],
   "source": [
    "most_ordered_item = chipo['item_name'].mode().values[0]\n",
    "print(most_ordered_item)"
   ]
  },
  {
   "cell_type": "markdown",
   "id": "0f808425",
   "metadata": {},
   "source": [
    "Step 10. For the most-ordered item, how many items were ordered?  "
   ]
  },
  {
   "cell_type": "code",
   "execution_count": 380,
   "id": "a647f477",
   "metadata": {},
   "outputs": [
    {
     "name": "stdout",
     "output_type": "stream",
     "text": [
      "761\n"
     ]
    }
   ],
   "source": [
    "most_ordered_item_quantity = chipo[chipo['item_name'] == most_ordered_item]['quantity'].sum()\n",
    "print(most_ordered_item_quantity)"
   ]
  },
  {
   "cell_type": "markdown",
   "id": "969588d7",
   "metadata": {},
   "source": [
    "Step 11. What was the most ordered item in the choice_description column?  "
   ]
  },
  {
   "cell_type": "code",
   "execution_count": 381,
   "id": "675fef5a",
   "metadata": {},
   "outputs": [
    {
     "name": "stdout",
     "output_type": "stream",
     "text": [
      "[Diet Coke]\n"
     ]
    }
   ],
   "source": [
    "most_ordered_choice_desc = chipo['choice_description'].mode().values[0]\n",
    "print(most_ordered_choice_desc)"
   ]
  },
  {
   "cell_type": "markdown",
   "id": "570b2f45",
   "metadata": {},
   "source": [
    "Step 12. How many items were orderd in total?  "
   ]
  },
  {
   "cell_type": "code",
   "execution_count": 382,
   "id": "476e6949",
   "metadata": {
    "scrolled": true
   },
   "outputs": [
    {
     "name": "stdout",
     "output_type": "stream",
     "text": [
      "4972\n"
     ]
    }
   ],
   "source": [
    "total_items_ordered = chipo['quantity'].sum()\n",
    "print(total_items_ordered)"
   ]
  },
  {
   "cell_type": "markdown",
   "id": "5a38964f",
   "metadata": {},
   "source": [
    "Step 13.  \n",
    "• Turn the item price into a float  \n",
    "• Check the item price type  \n",
    "• Create a lambda function and change the type of item price  \n",
    "• Check the item price type  "
   ]
  },
  {
   "cell_type": "code",
   "execution_count": 383,
   "id": "33c5aef5",
   "metadata": {},
   "outputs": [
    {
     "name": "stdout",
     "output_type": "stream",
     "text": [
      "Type of item_price column:  float64\n",
      "Type of item_price column after change:  object\n"
     ]
    }
   ],
   "source": [
    "chipo['item_price'] = chipo['item_price'].apply(lambda x: float(x[1:]))\n",
    "print(\"Type of item_price column: \", chipo['item_price'].dtype)\n",
    "chipo['item_price'] = chipo['item_price'].apply(lambda x: str(x))\n",
    "print(\"Type of item_price column after change: \", chipo['item_price'].dtype)"
   ]
  },
  {
   "cell_type": "markdown",
   "id": "92b84701",
   "metadata": {},
   "source": [
    "Step 14. How much was the revenue for the period in the dataset?  "
   ]
  },
  {
   "cell_type": "code",
   "execution_count": 390,
   "id": "a852c3ec",
   "metadata": {},
   "outputs": [
    {
     "name": "stdout",
     "output_type": "stream",
     "text": [
      "39237.02\n"
     ]
    }
   ],
   "source": [
    "chipo['item_price'] = chipo['item_price'].apply(lambda x: float(x[1:]))\n",
    "total_price = (chipo['quantity'] * chipo['item_price'])\n",
    "revenue= total_price.sum()\n",
    "print(revenue)"
   ]
  },
  {
   "cell_type": "markdown",
   "id": "8d0fd7b1",
   "metadata": {},
   "source": [
    "Step 15. How many orders were made in the period?  "
   ]
  },
  {
   "cell_type": "code",
   "execution_count": 391,
   "id": "36348629",
   "metadata": {
    "scrolled": true
   },
   "outputs": [
    {
     "name": "stdout",
     "output_type": "stream",
     "text": [
      "1834\n"
     ]
    }
   ],
   "source": [
    "num_orders = chipo['order_id'].nunique()\n",
    "print(num_orders)"
   ]
  },
  {
   "cell_type": "markdown",
   "id": "5f5fc144",
   "metadata": {},
   "source": [
    "Step 16. What is the average revenue amount per order?  "
   ]
  },
  {
   "cell_type": "code",
   "execution_count": 392,
   "id": "03ea9c0e",
   "metadata": {
    "scrolled": true
   },
   "outputs": [
    {
     "name": "stdout",
     "output_type": "stream",
     "text": [
      "21.39423118865867\n"
     ]
    }
   ],
   "source": [
    "avg_revenue_per_order = revenue / num_orders\n",
    "print(avg_revenue_per_order)"
   ]
  },
  {
   "cell_type": "markdown",
   "id": "c66592e5",
   "metadata": {},
   "source": [
    "Step 17. How many different items are sold?"
   ]
  },
  {
   "cell_type": "code",
   "execution_count": 393,
   "id": "eb615810",
   "metadata": {},
   "outputs": [
    {
     "name": "stdout",
     "output_type": "stream",
     "text": [
      "50\n"
     ]
    }
   ],
   "source": [
    "num_different_items_sold = chipo['item_name'].nunique()\n",
    "print(num_different_items_sold)"
   ]
  },
  {
   "cell_type": "markdown",
   "id": "dfe830b3",
   "metadata": {},
   "source": [
    "## Question 6\n",
    "Create a line plot showing the number of marriages and divorces per capita in the U.S. between 1867 and 2014. Label both lines and show the legend. Don't forget to label your axes!"
   ]
  },
  {
   "cell_type": "code",
   "execution_count": 315,
   "id": "0257bf0d",
   "metadata": {},
   "outputs": [
    {
     "data": {
      "image/png": "[encoded data removed]",
      "text/plain": [
       "<Figure size 640x480 with 1 Axes>"
      ]
     },
     "metadata": {},
     "output_type": "display_data"
    }
   ],
   "source": [
    "import pandas as pd\n",
    "import matplotlib.pyplot as plt\n",
    "\n",
    "data = pd.read_csv('us-marriages-divorces-1867-2014.csv')\n",
    "\n",
    "years = data['Year']\n",
    "marriages_per_capita = data['Marriages_per_1000']\n",
    "divorces_per_capita = data['Divorces_per_1000']\n",
    "\n",
    "plt.plot(years, marriages_per_capita, label='Marriages per Capita')\n",
    "plt.plot(years, divorces_per_capita, label='Divorces per Capita')\n",
    "\n",
    "plt.xlabel('Year')\n",
    "plt.ylabel('Number per Capita')\n",
    "plt.title('Marriages and Divorces per Capita in the U.S. (1867-2014)')\n",
    "plt.legend()\n",
    "plt.show()"
   ]
  },
  {
   "cell_type": "markdown",
   "id": "c058a607",
   "metadata": {},
   "source": [
    "## Question 7\n",
    "Create a vertical bar chart comparing the number of marriages and divorces per capita in the U.S. between 1900, 1950, and 2000.\n",
    "Don't forget to label your axes!"
   ]
  },
  {
   "cell_type": "code",
   "execution_count": 309,
   "id": "08c87d2c",
   "metadata": {},
   "outputs": [
    {
     "data": {
      "image/png": "[encoded data removed]",
      "text/plain": [
       "<Figure size 640x480 with 1 Axes>"
      ]
     },
     "metadata": {},
     "output_type": "display_data"
    }
   ],
   "source": [
    "import matplotlib.pyplot as plt\n",
    "years = [1900, 1950, 2000]\n",
    "marriages_per_capita = []\n",
    "divorces_per_capita = []\n",
    "for i in years:\n",
    "    marriages = data[data['Year'] == i]['Marriages_per_1000'].values\n",
    "    divorces = data[data['Year'] == i]['Divorces_per_1000'].values\n",
    "    marriages_per_capita.append(marriages[0])\n",
    "    divorces_per_capita.append(divorces[0])\n",
    "    \n",
    "plt.bar(years, marriages_per_capita, width=8, label='Marriages per Capita')\n",
    "plt.bar(years, divorces_per_capita, width=8, label='Divorces per Capita')\n",
    "\n",
    "plt.xlabel('Year')\n",
    "plt.ylabel('Number per Capita')\n",
    "plt.title('Marriages and Divorces per Capita in the U.S. (1900, 1950, 2000)')\n",
    "plt.legend()\n",
    "plt.show()"
   ]
  },
  {
   "cell_type": "markdown",
   "id": "a8864490",
   "metadata": {},
   "source": [
    "## Question 8\n",
    "Create a horizontal bar chart that compares the deadliest actors in Hollywood. Sort the actors by their kill count and label each bar with the corresponding actor's name. Don't forget to label your axes!"
   ]
  },
  {
   "cell_type": "code",
   "execution_count": 321,
   "id": "25ddee7c",
   "metadata": {},
   "outputs": [
    {
     "data": {
      "image/png": "[encoded data removed]",
      "text/plain": [
       "<Figure size 640x480 with 1 Axes>"
      ]
     },
     "metadata": {},
     "output_type": "display_data"
    }
   ],
   "source": [
    "import pandas as pd\n",
    "import matplotlib.pyplot as plt\n",
    "\n",
    "df = pd.read_csv('actor_kill_counts.csv')\n",
    "df = df.sort_values(by='Count', ascending=False)\n",
    "\n",
    "actors = df['Actor']\n",
    "kill_counts = df['Count']\n",
    "\n",
    "plt.barh(actors, kill_counts)\n",
    "\n",
    "for i, v in enumerate(kill_counts):\n",
    "    plt.text(v, i, str(v), ha='left', va='center')\n",
    "    \n",
    "plt.xlabel('Kill Count')\n",
    "plt.ylabel('Actor')\n",
    "plt.title('Deadliest Actors in Hollywood')\n",
    "plt.gca().invert_yaxis()\n",
    "plt.show()\n"
   ]
  },
  {
   "cell_type": "markdown",
   "id": "3dc49d01",
   "metadata": {},
   "source": [
    "## Question 9\n",
    "Create a pie chart showing the fraction of all Roman Emperors that were assassinated.\n",
    "Make sure that the pie chart is an even circle, labels the categories, and shows the percentage breakdown of the categories."
   ]
  },
  {
   "cell_type": "code",
   "execution_count": 336,
   "id": "02b5e223",
   "metadata": {},
   "outputs": [
    {
     "data": {
      "image/png": "[encoded data removed]",
      "text/plain": [
       "<Figure size 640x480 with 1 Axes>"
      ]
     },
     "metadata": {},
     "output_type": "display_data"
    }
   ],
   "source": [
    "import pandas as pd\n",
    "import matplotlib.pyplot as plt\n",
    "\n",
    "df = pd.read_csv('roman-emperor-reigns.csv')\n",
    "total_emperors = df['Emperor'].count()\n",
    "assassinated_emperors = df[df['Cause_of_Death'] == 'Assassinated'].count()['Emperor']\n",
    "fraction_assassinated = assassinated_emperors / total_emperors\n",
    "\n",
    "labels = ['Assassinated', 'Not Assassinated']\n",
    "sizes = [fraction_assassinated, 1 - fraction_assassinated]\n",
    "colors = ['red', 'lightgrey']\n",
    "explode = (0.1, 0) \n",
    "plt.pie(sizes, labels=labels, colors=colors, explode=explode, autopct='%1.1f%%', startangle=90)\n",
    "plt.axis('equal')  \n",
    "plt.title('Fraction of Roman Emperors Assassinated')\n",
    "plt.show()"
   ]
  },
  {
   "cell_type": "markdown",
   "id": "d95069c5",
   "metadata": {},
   "source": [
    "## Question 10\n",
    "Create a scatter plot showing the relationship between the total revenue earned by arcades and the number of Computer Science PhDs awarded in the U.S. between 2000 and 2009.  \n",
    "Don't forget to label your axes!  \n",
    "Color each dot according to its year.  "
   ]
  },
  {
   "cell_type": "code",
   "execution_count": 362,
   "id": "0f2e6c70",
   "metadata": {},
   "outputs": [
    {
     "data": {
      "image/png": "[encoded data removed]",
      "text/plain": [
       "<Figure size 640x480 with 2 Axes>"
      ]
     },
     "metadata": {},
     "output_type": "display_data"
    }
   ],
   "source": [
    "import pandas as pd\n",
    "import matplotlib.pyplot as plt\n",
    "\n",
    "df = pd.read_csv('arcade-revenue-vs-cs-doctorates.csv')\n",
    "years = df['Year']\n",
    "revenue = df['Total Arcade Revenue (billions)']\n",
    "phds_awarded = df['Computer Science Doctorates Awarded (US)']\n",
    "\n",
    "plt.scatter(revenue, phds_awarded, c=years, cmap='viridis', alpha=0.8, edgecolors='black')\n",
    "\n",
    "plt.ylabel('Total Revenue Earned by Arcades (billions)')\n",
    "plt.xlabel('Number of Computer Science PhDs Awarded (US)')\n",
    "plt.title('Arcade Revenue vs. CS PhDs in US (2000-2009)')\n",
    "\n",
    "cbar = plt.colorbar()\n",
    "cbar.set_label('Year')\n",
    "    \n",
    "plt.show()\n"
   ]
  },
  {
   "cell_type": "code",
   "execution_count": null,
   "id": "ba110e8f",
   "metadata": {},
   "outputs": [],
   "source": []
  },
  {
   "cell_type": "code",
   "execution_count": null,
   "id": "686c0bb9",
   "metadata": {},
   "outputs": [],
   "source": []
  }
 ],
 "metadata": {
  "kernelspec": {
   "display_name": "Python 3 (ipykernel)",
   "language": "python",
   "name": "python3"
  },
  "language_info": {
   "codemirror_mode": {
    "name": "ipython",
    "version": 3
   },
   "file_extension": ".py",
   "mimetype": "text/x-python",
   "name": "python",
   "nbconvert_exporter": "python",
   "pygments_lexer": "ipython3",
   "version": "3.9.15"
  }
 },
 "nbformat": 4,
 "nbformat_minor": 5
}
